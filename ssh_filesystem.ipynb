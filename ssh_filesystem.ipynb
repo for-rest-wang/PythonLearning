{
 "cells": [
  {
   "cell_type": "code",
   "execution_count": 71,
   "metadata": {},
   "outputs": [],
   "source": [
    "#!/usr/bin/python \n",
    "# -*- coding: utf-8 -*-\n",
    "\n",
    "import os\n",
    "import sys\n",
    "import stat\n",
    "import paramiko"
   ]
  },
  {
   "cell_type": "markdown",
   "metadata": {},
   "source": [
    "## 方法１"
   ]
  },
  {
   "cell_type": "code",
   "execution_count": 3,
   "metadata": {},
   "outputs": [],
   "source": [
    "ssh = paramiko.SSHClient()"
   ]
  },
  {
   "cell_type": "code",
   "execution_count": 4,
   "metadata": {},
   "outputs": [],
   "source": [
    "ssh.set_missing_host_key_policy(paramiko.AutoAddPolicy())"
   ]
  },
  {
   "cell_type": "code",
   "execution_count": 5,
   "metadata": {},
   "outputs": [],
   "source": [
    "ssh.connect(hostname='0.0.0.0', port=22, username='root', password='password')"
   ]
  },
  {
   "cell_type": "code",
   "execution_count": 6,
   "metadata": {},
   "outputs": [],
   "source": [
    "stdin, stdout, stderr = ssh.exec_command('ls')"
   ]
  },
  {
   "cell_type": "code",
   "execution_count": 7,
   "metadata": {},
   "outputs": [],
   "source": [
    "result = stdout.read()"
   ]
  },
  {
   "cell_type": "code",
   "execution_count": 8,
   "metadata": {},
   "outputs": [
    {
     "name": "stdout",
     "output_type": "stream",
     "text": [
      "adm\n",
      "aimdb.sql\n",
      "anaconda3\n",
      "Anaconda3-5.2.0-Linux-x86_64.sh\n",
      "anaconda-ks.cfg\n",
      "bw\n",
      "ccc\n",
      "cigarette01\n",
      "cigarette_cabinet_20_finetune_vgg16.ipynb\n",
      "cigarette_cabinet_20_vgg16.ipynb\n",
      "cigarette_cabinet_h5.ipynb\n",
      "data\n",
      "dmpdb.sql\n",
      "epel-release-latest-7.noarch.rpm\n",
      "feature\n",
      "foreplay\n",
      "image\n",
      "mock.sql\n",
      "models\n",
      "mysql-5.7.26-1.el7.x86_64.rpm-bundle.tar\n",
      "mysql-community-client-5.7.26-1.el7.x86_64.rpm\n",
      "mysql-community-common-5.7.26-1.el7.x86_64.rpm\n",
      "mysql-community-devel-5.7.26-1.el7.x86_64.rpm\n",
      "mysql-community-embedded-5.7.26-1.el7.x86_64.rpm\n",
      "mysql-community-embedded-compat-5.7.26-1.el7.x86_64.rpm\n",
      "mysql-community-embedded-devel-5.7.26-1.el7.x86_64.rpm\n",
      "mysql-community-libs-5.7.26-1.el7.x86_64.rpm\n",
      "mysql-community-libs-compat-5.7.26-1.el7.x86_64.rpm\n",
      "mysql-community-server-5.7.26-1.el7.x86_64.rpm\n",
      "mysql-community-test-5.7.26-1.el7.x86_64.rpm\n",
      "Object_Detection_API_Demo.ipynb\n",
      "od\n",
      "platform.sql\n",
      "protoc\n",
      "python\n",
      "qrtdb.sql\n",
      "rcnn\n",
      "rpn\n",
      "tagdb.sql\n",
      "Untitled1.ipynb\n",
      "Untitled.ipynb\n",
      "vgg16.h5\n",
      "\n"
     ]
    }
   ],
   "source": [
    "print (str(result,encoding='utf-8'))"
   ]
  },
  {
   "cell_type": "code",
   "execution_count": 9,
   "metadata": {},
   "outputs": [],
   "source": [
    "ssh.close()"
   ]
  },
  {
   "cell_type": "markdown",
   "metadata": {},
   "source": [
    "## 方法2"
   ]
  },
  {
   "cell_type": "code",
   "execution_count": 52,
   "metadata": {},
   "outputs": [],
   "source": [
    "t = paramiko.Transport((''0.0.0.0'',22))\n",
    "t.connect(username = 'root', password = 'password')"
   ]
  },
  {
   "cell_type": "code",
   "execution_count": 53,
   "metadata": {},
   "outputs": [],
   "source": [
    "sftp = paramiko.SFTPClient.from_transport(t)"
   ]
  },
  {
   "cell_type": "code",
   "execution_count": 54,
   "metadata": {},
   "outputs": [],
   "source": [
    "localpath= 'd:/ylt.txt'\n",
    "remotepath= '/tmp/ylt.txt'\n",
    "sftp.put(localpath,remotepath)\n",
    "t.close()"
   ]
  },
  {
   "cell_type": "markdown",
   "metadata": {},
   "source": [
    "SFTPCLient作为一个sftp的客户端对象，根据ssh传输协议的sftp会话，实现远程文件操作，如上传、下载、权限、状态\n",
    "\n",
    "from_transport(cls,t) 创建一个已连通的SFTP客户端通道\n",
    "\n",
    "put(localpath, remotepath, callback=None, confirm=True) 将本地文件上传到服务器 参数confirm：是否调用stat()方法检查文件状态，返回ls -l的结果\n",
    "\n",
    "get(remotepath, localpath, callback=None) 从服务器下载文件到本地\n",
    "\n",
    "mkdir() 在服务器上创建目录\n",
    "\n",
    "remove() 在服务器上删除目录\n",
    "\n",
    "rename() 在服务器上重命名目录\n",
    "\n",
    "stat() 查看服务器文件状态\n",
    "\n",
    "listdir() 列出服务器目录下的文件\n"
   ]
  },
  {
   "cell_type": "code",
   "execution_count": 44,
   "metadata": {},
   "outputs": [
    {
     "name": "stdout",
     "output_type": "stream",
     "text": [
      "operation failure!\n"
     ]
    }
   ],
   "source": [
    "t = paramiko.Transport(('0.0.0.0',22))\n",
    "try:\n",
    "    localpath= 'd:/ylt.txt'\n",
    "    remotepath= '/tmp/ylt.txt'\n",
    "    t.connect(username = 'root', password = 'password')\n",
    "    sftp = paramiko.SFTPClient.from_transport(t)\n",
    "    remote_files = sftp.listdir(remotepath)\n",
    "    print(remote_files)\n",
    "#     sftp.put(localpath,remotepath)\n",
    "except:\n",
    "    print('operation failure!')\n",
    "finally:\n",
    "    t.close()"
   ]
  },
  {
   "cell_type": "code",
   "execution_count": 75,
   "metadata": {},
   "outputs": [
    {
     "name": "stdout",
     "output_type": "stream",
     "text": [
      "True systemd-private-68d80f2097564a55a8ed0f8c6fe8df1a-httpd.service-2vkaFq\n",
      "True .Test-unix\n",
      "True .font-unix\n",
      "True .XIM-unix\n",
      "True systemd-private-68d80f2097564a55a8ed0f8c6fe8df1a-ntpd.service-O8c1rl\n",
      "True .X11-unix\n",
      "False ylt.txt\n",
      "True .ICE-unix\n"
     ]
    }
   ],
   "source": [
    "t = paramiko.Transport(('0.0.0.0',22))\n",
    "localpath= 'd:/ylt.txt'\n",
    "remotepath= '/tmp/'\n",
    "t.connect(username = 'root', password = 'password')\n",
    "sftp = paramiko.SFTPClient.from_transport(t)\n",
    "remote_files = sftp.listdir_attr(remotepath)\n",
    "for f in remote_files:\n",
    "    print(stat.S_ISDIR(f.st_mode), f.filename)\n",
    "t.close()"
   ]
  },
  {
   "cell_type": "markdown",
   "metadata": {},
   "source": [
    "## 本地操作"
   ]
  },
  {
   "cell_type": "code",
   "execution_count": 90,
   "metadata": {},
   "outputs": [],
   "source": [
    "localpath = 'd:\\\\shelf\\\\jnyg'"
   ]
  },
  {
   "cell_type": "code",
   "execution_count": 95,
   "metadata": {},
   "outputs": [],
   "source": [
    "sub = os.listdir(localpath)"
   ]
  },
  {
   "cell_type": "code",
   "execution_count": 102,
   "metadata": {},
   "outputs": [
    {
     "name": "stdout",
     "output_type": "stream",
     "text": [
      "True d:\\shelf\\jnyg\\38469.jpg\n",
      "True d:\\shelf\\jnyg\\38479.jpg\n",
      "True d:\\shelf\\jnyg\\38484.jpg\n",
      "True d:\\shelf\\jnyg\\38532.jpg\n",
      "True d:\\shelf\\jnyg\\38593.jpg\n",
      "True d:\\shelf\\jnyg\\38637.jpg\n",
      "True d:\\shelf\\jnyg\\38641.jpg\n",
      "True d:\\shelf\\jnyg\\38711.jpg\n",
      "True d:\\shelf\\jnyg\\38799.jpg\n",
      "True d:\\shelf\\jnyg\\38829.jpg\n",
      "True d:\\shelf\\jnyg\\38886.jpg\n",
      "True d:\\shelf\\jnyg\\38947.jpg\n",
      "True d:\\shelf\\jnyg\\39070.jpg\n",
      "True d:\\shelf\\jnyg\\39096.jpg\n",
      "True d:\\shelf\\jnyg\\39101.jpg\n",
      "True d:\\shelf\\jnyg\\39135.jpg\n",
      "True d:\\shelf\\jnyg\\39146.jpg\n",
      "True d:\\shelf\\jnyg\\39205.jpg\n",
      "True d:\\shelf\\jnyg\\39225.jpg\n",
      "True d:\\shelf\\jnyg\\39483.jpg\n",
      "False d:\\shelf\\jnyg\\新建文件夹\n"
     ]
    }
   ],
   "source": [
    "for i,s in enumerate(sub):\n",
    "    print(os.path.isfile(os.path.join(localpath, s)),os.path.join(localpath, s))"
   ]
  },
  {
   "cell_type": "code",
   "execution_count": 82,
   "metadata": {},
   "outputs": [
    {
     "name": "stdout",
     "output_type": "stream",
     "text": [
      "False 38469.jpg\n",
      "False 38479.jpg\n",
      "False 38484.jpg\n",
      "False 38532.jpg\n",
      "False 38593.jpg\n",
      "False 38637.jpg\n",
      "False 38641.jpg\n",
      "False 38711.jpg\n",
      "False 38799.jpg\n",
      "False 38829.jpg\n",
      "False 38886.jpg\n",
      "False 38947.jpg\n",
      "False 39070.jpg\n",
      "False 39096.jpg\n",
      "False 39101.jpg\n",
      "False 39135.jpg\n",
      "False 39146.jpg\n",
      "False 39205.jpg\n",
      "False 39225.jpg\n",
      "False 39483.jpg\n",
      "False demo3.jpg\n"
     ]
    }
   ],
   "source": [
    "file_list = []\n",
    "for root,dirs,files in os.walk(localpath):\n",
    "    file_list.extend(files)\n",
    "    for name in files:\n",
    "        print(os.path.isdir(os.path.join(root, name)),name)"
   ]
  },
  {
   "cell_type": "code",
   "execution_count": 33,
   "metadata": {},
   "outputs": [
    {
     "name": "stdout",
     "output_type": "stream",
     "text": [
      "['38469.jpg', '38479.jpg', '38484.jpg', '38532.jpg', '38593.jpg', '38637.jpg', '38641.jpg', '38711.jpg', '38799.jpg', '38829.jpg', '38886.jpg', '38947.jpg', '39070.jpg', '39096.jpg', '39101.jpg', '39135.jpg', '39146.jpg', '39205.jpg', '39225.jpg', '39483.jpg', 'demo3.jpg']\n"
     ]
    }
   ],
   "source": [
    "print(file_list)"
   ]
  },
  {
   "cell_type": "markdown",
   "metadata": {},
   "source": [
    "## pathlib"
   ]
  },
  {
   "cell_type": "code",
   "execution_count": 39,
   "metadata": {},
   "outputs": [],
   "source": [
    "import pathlib"
   ]
  },
  {
   "cell_type": "code",
   "execution_count": 40,
   "metadata": {},
   "outputs": [
    {
     "name": "stdout",
     "output_type": "stream",
     "text": [
      "d:\\shelf\\jnyg\\38469.jpg\n",
      "d:\\shelf\\jnyg\\38479.jpg\n",
      "d:\\shelf\\jnyg\\38484.jpg\n",
      "d:\\shelf\\jnyg\\38532.jpg\n",
      "d:\\shelf\\jnyg\\38593.jpg\n",
      "d:\\shelf\\jnyg\\38637.jpg\n",
      "d:\\shelf\\jnyg\\38641.jpg\n",
      "d:\\shelf\\jnyg\\38711.jpg\n",
      "d:\\shelf\\jnyg\\38799.jpg\n",
      "d:\\shelf\\jnyg\\38829.jpg\n",
      "d:\\shelf\\jnyg\\38886.jpg\n",
      "d:\\shelf\\jnyg\\38947.jpg\n",
      "d:\\shelf\\jnyg\\39070.jpg\n",
      "d:\\shelf\\jnyg\\39096.jpg\n",
      "d:\\shelf\\jnyg\\39101.jpg\n",
      "d:\\shelf\\jnyg\\39135.jpg\n",
      "d:\\shelf\\jnyg\\39146.jpg\n",
      "d:\\shelf\\jnyg\\39205.jpg\n",
      "d:\\shelf\\jnyg\\39225.jpg\n",
      "d:\\shelf\\jnyg\\39483.jpg\n",
      "d:\\shelf\\jnyg\\新建文件夹\\demo3.jpg\n"
     ]
    }
   ],
   "source": [
    "path = pathlib.Path(localpath)\n",
    "for i in path.rglob('*.jpg'):\n",
    "    print(i)"
   ]
  },
  {
   "cell_type": "code",
   "execution_count": null,
   "metadata": {},
   "outputs": [],
   "source": []
  }
 ],
 "metadata": {
  "kernelspec": {
   "display_name": "Python 3",
   "language": "python",
   "name": "python3"
  },
  "language_info": {
   "codemirror_mode": {
    "name": "ipython",
    "version": 3
   },
   "file_extension": ".py",
   "mimetype": "text/x-python",
   "name": "python",
   "nbconvert_exporter": "python",
   "pygments_lexer": "ipython3",
   "version": "3.7.3"
  }
 },
 "nbformat": 4,
 "nbformat_minor": 2
}
